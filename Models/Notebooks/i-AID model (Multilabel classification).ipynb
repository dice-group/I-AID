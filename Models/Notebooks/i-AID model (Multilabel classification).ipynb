{
  "nbformat": 4,
  "nbformat_minor": 0,
  "metadata": {
    "colab": {
      "name": "i-AID Model (Multi-Label classification).ipynb",
      "version": "0.3.2",
      "provenance": [],
      "private_outputs": true,
      "collapsed_sections": [],
      "toc_visible": true
    },
    "kernelspec": {
      "name": "python3",
      "display_name": "Python 3"
    }
  },
  "cells": [
    {
      "cell_type": "code",
      "metadata": {
        "id": "tLgqwHaI-L2l",
        "colab_type": "code",
        "colab": {}
      },
      "source": [
        "!pip install scikit-multilearn\n"
      ],
      "execution_count": 0,
      "outputs": []
    },
    {
      "cell_type": "code",
      "metadata": {
        "id": "0l6gGReIP19X",
        "colab_type": "code",
        "colab": {}
      },
      "source": [
        "import pandas as pd\n",
        "import numpy as np\n",
        "\n",
        "from sklearn.preprocessing import MultiLabelBinarizer\n",
        "\n",
        "from sklearn.model_selection import train_test_split\n",
        "from imblearn.over_sampling import RandomOverSampler\n",
        "\n",
        "from skmultilearn.problem_transform import LabelPowerset\n",
        "from skmultilearn.problem_transform import BinaryRelevance\n",
        "\n",
        "from imblearn.over_sampling import SMOTE\n",
        "\n",
        "import seaborn as sns\n",
        "import matplotlib.pyplot as plt\n",
        "\n",
        "from sklearn.naive_bayes import GaussianNB\n",
        "from sklearn.linear_model import SGDClassifier\n",
        "from sklearn.linear_model import LogisticRegression\n",
        "from sklearn.multiclass import OneVsRestClassifier\n",
        "from sklearn.ensemble import RandomForestClassifier\n",
        "from sklearn.calibration import CalibratedClassifierCV\n",
        "from sklearn.svm import LinearSVC\n",
        "from sklearn.svm import SVC\n",
        "\n",
        "from sklearn.metrics import hamming_loss\n",
        "from sklearn.metrics import f1_score"
      ],
      "execution_count": 0,
      "outputs": []
    },
    {
      "cell_type": "markdown",
      "metadata": {
        "id": "52bWfLiZfoM7",
        "colab_type": "text"
      },
      "source": [
        "# Dataset Preprocessing:"
      ]
    },
    {
      "cell_type": "code",
      "metadata": {
        "id": "WBhXCdWmcFRm",
        "colab_type": "code",
        "colab": {}
      },
      "source": [
        "# load TREC dataset\n",
        "trec_data=pd.read_csv('trainingData_U_Sent2vec_V2.csv', index_col=0)\n",
        "\n",
        "trec_data.set_index('0.1', inplace=True)\n",
        "# rename the index column to postID\n",
        "trec_data.index.rename('postID', inplace=True)\n",
        "\n",
        "trec_data=trec_data.dropna() # drop null values\n",
        "\n",
        "# get all labels\n",
        "all_labels=trec_data['1'].tolist()\n",
        "\n",
        "all_labels=np.asarray([ [ x.strip() for x in item[1:-1].split(',')] for item in all_labels])\n",
        "\n",
        "\n",
        "#encode multi-label classes\n",
        "multilabel_binarizer = MultiLabelBinarizer()\n",
        "\n",
        "Y = multilabel_binarizer.fit_transform(all_labels)\n",
        "\n",
        "trec_data.drop(['1'], axis=1, inplace=True)\n",
        "X = trec_data"
      ],
      "execution_count": 0,
      "outputs": []
    },
    {
      "cell_type": "code",
      "metadata": {
        "id": "Q1W0YKYjXAbr",
        "colab_type": "code",
        "colab": {}
      },
      "source": [
        "print (multilabel_binarizer.inverse_transform(Y)[:10])"
      ],
      "execution_count": 0,
      "outputs": []
    },
    {
      "cell_type": "code",
      "metadata": {
        "id": "FLzAofcZXLR9",
        "colab_type": "code",
        "colab": {}
      },
      "source": [
        "print (all_labels[:10])"
      ],
      "execution_count": 0,
      "outputs": []
    },
    {
      "cell_type": "markdown",
      "metadata": {
        "id": "VxVj-WDMhb7-",
        "colab_type": "text"
      },
      "source": [
        "# Multi-Label Classification using Label Powerset:"
      ]
    },
    {
      "cell_type": "markdown",
      "metadata": {
        "id": "zG1nlLTnWtpL",
        "colab_type": "text"
      },
      "source": [
        "## Label Powerset Technique without balancing the dataset:\n",
        "\n",
        "https://github.com/scikit-multilearn/scikit-multilearn"
      ]
    },
    {
      "cell_type": "code",
      "metadata": {
        "id": "Apy5iR5BWIv4",
        "colab_type": "code",
        "colab": {}
      },
      "source": [
        "X_train, X_test, y_train, y_test = train_test_split(X, Y, test_size=0.2, random_state=24)\n",
        "\n",
        "classifier = LabelPowerset(GaussianNB())\n",
        "classifier.fit(X_train, y_train)\n",
        "\n",
        "# predict\n",
        "predictions = classifier.predict(X_test)\n",
        "\n",
        "print ('F1-score, Label Powerset -GuassianNB- without sampling: ', f1_score(y_test, predictions, average='micro'))"
      ],
      "execution_count": 0,
      "outputs": []
    },
    {
      "cell_type": "code",
      "metadata": {
        "id": "o-myGRH1kj7I",
        "colab_type": "code",
        "colab": {}
      },
      "source": [
        "classifier = LabelPowerset(RandomForestClassifier(n_estimators=25, random_state=24, class_weight='balanced'))\n",
        "classifier.fit(X_train, y_train)\n",
        "\n",
        "# predict\n",
        "predictions = classifier.predict(X_test)\n",
        "\n",
        "print ('F1-score, Label Powerset -RandomForest- without sampling: ', f1_score(y_test, predictions, average='micro'))"
      ],
      "execution_count": 0,
      "outputs": []
    },
    {
      "cell_type": "markdown",
      "metadata": {
        "id": "uHVOXHift-Q7",
        "colab_type": "text"
      },
      "source": [
        "## Label Powerset with balancing the dataset using RandomOversampler:\n",
        "\n",
        "* Example: https://www.kaggle.com/roccoli/multi-label-classification-with-sklearn/comments"
      ]
    },
    {
      "cell_type": "code",
      "metadata": {
        "id": "rPfrg4YFkukN",
        "colab_type": "code",
        "colab": {}
      },
      "source": [
        "ros = RandomOverSampler(random_state=42)\n",
        "X_resampled, Y_resampled = ros.fit_sample(X, Y)\n",
        "X_train, X_test, y_train, y_test = train_test_split(X_resampled, Y_resampled, test_size=0.2, random_state=24)\n",
        "\n",
        "\n",
        "classifier = LabelPowerset(GaussianNB())\n",
        "\n",
        "classifier.fit(X_train, y_train)\n",
        "\n",
        "# predict\n",
        "predictions = classifier.predict(X_test)\n",
        "\n",
        "print ('F1-score, Label Powerset -GaussianNB- with sampling: ', f1_score(y_test, predictions, average='micro'))"
      ],
      "execution_count": 0,
      "outputs": []
    },
    {
      "cell_type": "code",
      "metadata": {
        "id": "DER6ITehdrdt",
        "colab_type": "code",
        "colab": {}
      },
      "source": [
        "classifier = LabelPowerset(RandomForestClassifier(n_estimators=25, random_state=24, class_weight='balanced'))\n",
        "\n",
        "classifier.fit(X_train, y_train)\n",
        "\n",
        "# predict\n",
        "predictions = classifier.predict(X_test)\n",
        "\n",
        "print ('F1-score, Label Powerset -RandomForest- with sampling: ', f1_score(y_test, predictions, average='micro'))"
      ],
      "execution_count": 0,
      "outputs": []
    },
    {
      "cell_type": "markdown",
      "metadata": {
        "id": "PDp7XLvuhi0n",
        "colab_type": "text"
      },
      "source": [
        "# Multi-Label Classification using Binary Relevance:"
      ]
    },
    {
      "cell_type": "markdown",
      "metadata": {
        "id": "zK5ehtv-YJmA",
        "colab_type": "text"
      },
      "source": [
        "## Binary Relevane Technique without balancing the dataset:"
      ]
    },
    {
      "cell_type": "code",
      "metadata": {
        "id": "JrvAowHLYHXB",
        "colab_type": "code",
        "colab": {}
      },
      "source": [
        "X_train, X_test, y_train, y_test = train_test_split(X, Y, test_size=0.2, random_state=24)\n",
        "\n",
        "classifier = BinaryRelevance(GaussianNB())\n",
        "classifier.fit(X_train, y_train)\n",
        "\n",
        "# predict\n",
        "predictions = classifier.predict(X_test)\n",
        "\n",
        "print ('F1-score, Binary Relevance -GuassianNB- without sampling: ', f1_score(y_test, predictions, average='micro'))"
      ],
      "execution_count": 0,
      "outputs": []
    },
    {
      "cell_type": "code",
      "metadata": {
        "id": "Q50QZ4rpY4L_",
        "colab_type": "code",
        "colab": {}
      },
      "source": [
        "classifier = BinaryRelevance(RandomForestClassifier(n_estimators=25, random_state=24, class_weight='balanced'))\n",
        "classifier.fit(X_train, y_train)\n",
        "\n",
        "# predict\n",
        "predictions = classifier.predict(X_test)\n",
        "\n",
        "print ('F1-score, Binary Relevance -RandomForestClassifier- without sampling: ', f1_score(y_test, predictions, average='micro'))"
      ],
      "execution_count": 0,
      "outputs": []
    },
    {
      "cell_type": "markdown",
      "metadata": {
        "id": "kdoVU2-gYSpO",
        "colab_type": "text"
      },
      "source": [
        "## Binary Relevance Technique with balaning the dataset:"
      ]
    },
    {
      "cell_type": "code",
      "metadata": {
        "id": "V6H8uqrXYjBR",
        "colab_type": "code",
        "colab": {}
      },
      "source": [
        "ros = RandomOverSampler(random_state=42)\n",
        "X_resampled, Y_resampled = ros.fit_sample(X, Y)\n",
        "X_train, X_test, y_train, y_test = train_test_split(X_resampled, Y_resampled, test_size=0.2, random_state=24)\n",
        "\n",
        "\n",
        "classifier = BinaryRelevance(GaussianNB())\n",
        "\n",
        "classifier.fit(X_train, y_train)\n",
        "\n",
        "# predict\n",
        "predictions = classifier.predict(X_test)\n",
        "\n",
        "print ('F1-score, BinaryRelevance -GaussianNB- sampling: ', f1_score(y_test, predictions, average='micro'))"
      ],
      "execution_count": 0,
      "outputs": []
    },
    {
      "cell_type": "code",
      "metadata": {
        "id": "IcWVlKmxZGvW",
        "colab_type": "code",
        "colab": {}
      },
      "source": [
        "ros = RandomOverSampler(random_state=42)\n",
        "X_resampled, Y_resampled = ros.fit_sample(X, Y)\n",
        "X_train, X_test, y_train, y_test = train_test_split(X_resampled, Y_resampled, test_size=0.2, random_state=24)\n",
        "\n",
        "\n",
        "classifier = BinaryRelevance(RandomForestClassifier(n_estimators=25, random_state=24, class_weight='balanced'))\n",
        "\n",
        "classifier.fit(X_train, y_train)\n",
        "\n",
        "# predict\n",
        "predictions = classifier.predict(X_test)\n",
        "\n",
        "print ('F1-score, BinaryRelevance -RandomForest- sampling: ', f1_score(y_test, predictions, average='micro'))"
      ],
      "execution_count": 0,
      "outputs": []
    },
    {
      "cell_type": "markdown",
      "metadata": {
        "id": "7HByazF-iVBH",
        "colab_type": "text"
      },
      "source": [
        "***"
      ]
    },
    {
      "cell_type": "markdown",
      "metadata": {
        "id": "WNfUIBUr-8jM",
        "colab_type": "text"
      },
      "source": [
        "# Ensemble Model:"
      ]
    },
    {
      "cell_type": "markdown",
      "metadata": {
        "id": "OzpxH7wjuEUE",
        "colab_type": "text"
      },
      "source": [
        "\n",
        "## Evaluation Metric using Hamming Loss (for multi-label classification)"
      ]
    },
    {
      "cell_type": "code",
      "metadata": {
        "id": "pgFMYz8As1gd",
        "colab_type": "code",
        "colab": {}
      },
      "source": [
        "\n",
        "def hamming_score(y_true, y_pred, normalize=True, sample_weight=None):\n",
        "    '''\n",
        "    Compute the Hamming score (a.k.a. label-based accuracy) for the multi-label case\n",
        "    http://stackoverflow.com/q/32239577/395857\n",
        "    '''\n",
        "    acc_list = []\n",
        "    for i in range(y_true.shape[0]):\n",
        "        set_true = set( np.where(y_true[i])[0] )\n",
        "        set_pred = set( np.where(y_pred[i])[0] )\n",
        "        tmp_a = None\n",
        "        if len(set_true) == 0 and len(set_pred) == 0:\n",
        "            tmp_a = 1\n",
        "        else:\n",
        "            tmp_a = len(set_true.intersection(set_pred))/float(len(set_true.union(set_pred)) )\n",
        "        acc_list.append(tmp_a)\n",
        "    return np.mean(acc_list)\n",
        "\n",
        "def print_score(y_pred, clf):\n",
        "    print(\"Clf: \", clf.__class__.__name__)\n",
        "    print(\"Hamming loss: {}\".format(hamming_loss(y_pred, y_test)))\n",
        "    print(\"Hamming score: {}\".format(hamming_score(y_pred, y_test)))\n",
        "    print(\"---\")    "
      ],
      "execution_count": 0,
      "outputs": []
    },
    {
      "cell_type": "markdown",
      "metadata": {
        "id": "dcoPYvSbBbEO",
        "colab_type": "text"
      },
      "source": [
        "## Baseline Classifiers:"
      ]
    },
    {
      "cell_type": "code",
      "metadata": {
        "id": "KmKcWneHs_1-",
        "colab_type": "code",
        "colab": {}
      },
      "source": [
        "nb_clf = GaussianNB()\n",
        "clf_svm=SVC(gamma='scale', decision_function_shape='ovo', probability=True)\n",
        "clf_rf = RandomForestClassifier(n_estimators=25, random_state=24, class_weight='balanced')\n"
      ],
      "execution_count": 0,
      "outputs": []
    },
    {
      "cell_type": "markdown",
      "metadata": {
        "id": "XDc8TStQBqa9",
        "colab_type": "text"
      },
      "source": [
        "## Get Meta-Features (i.e. Predictions of Baseline Classifiers)"
      ]
    },
    {
      "cell_type": "code",
      "metadata": {
        "id": "vJhKJV2M_Cuu",
        "colab_type": "code",
        "colab": {}
      },
      "source": [
        "ros = RandomOverSampler(random_state=42)\n",
        "X_resampled, Y_resampled = ros.fit_sample(X, Y)\n",
        "X_train, X_test, y_train, y_test = train_test_split(X_resampled, Y_resampled, test_size=0.2, random_state=24)\n",
        "\n",
        "#--- train GaussianNB classifer ---\n",
        "classifier = LabelPowerset(nb_clf)\n",
        "classifier.fit(X_train, y_train)\n",
        "y_pred_nb=classifier.predict_proba(X_train)\n",
        "\n",
        "y_pred=classifier.predict(X_test)\n",
        "print ('F1-score, Label Powerset -GaussianNB: ', f1_score(y_test, y_pred, average='micro'))\n"
      ],
      "execution_count": 0,
      "outputs": []
    },
    {
      "cell_type": "code",
      "metadata": {
        "id": "hGRoe3f-gixE",
        "colab_type": "code",
        "colab": {}
      },
      "source": [
        "#--- train a randomforest classifer ----\n",
        "classifier = LabelPowerset(clf_rf)\n",
        "classifier.fit(X_train, y_train)\n",
        "y_pred_rf=classifier.predict_proba(X_train)\n",
        "\n",
        "y_pred=classifier.predict(X_test)\n",
        "print ('F1-score, Label Powerset -randomforest: ', f1_score(y_test, y_pred, average='micro'))\n"
      ],
      "execution_count": 0,
      "outputs": []
    },
    {
      "cell_type": "markdown",
      "metadata": {
        "id": "p2z_ysonDzT3",
        "colab_type": "text"
      },
      "source": [
        "## Meta-Learner Classifier:"
      ]
    },
    {
      "cell_type": "code",
      "metadata": {
        "id": "aVykHCwSDtWK",
        "colab_type": "code",
        "colab": {}
      },
      "source": [
        "# Get meta-features (predictions of all classifiers)\n",
        "meta_features=np.concatenate((y_pred_nb, y_pred_rf),axis=1)\n",
        "\n",
        "\n",
        "meta_clf=LinearSVC()\n",
        "meta_clf.fit(meta_features, y_train)\n",
        "\n",
        "meta_x_test=np.concatenate((clf_rf.predict_proba(X_test), nb_clf.predict_proba(X_test)),axis=1)\n",
        "\n",
        "y_pred_final=meta_clf.predict(meta_x_test)\n",
        "print ('F1-score using ensemble model: ', f1_score(y_test, y_pred_final, average='micro'))"
      ],
      "execution_count": 0,
      "outputs": []
    }
  ]
}